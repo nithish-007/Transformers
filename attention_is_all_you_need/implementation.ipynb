{
 "cells": [
  {
   "cell_type": "code",
   "execution_count": 1,
   "id": "91bd003a",
   "metadata": {},
   "outputs": [],
   "source": [
    "import torch \n",
    "import numpy as np"
   ]
  },
  {
   "cell_type": "code",
   "execution_count": 2,
   "id": "c76a6394",
   "metadata": {},
   "outputs": [],
   "source": [
    "class TransformerModel(torch.nn.Module):\n",
    "    def __init__(self, input_dim, output_dim, num_heads, num_layers):\n",
    "        super(TransformerModel, self).__init__()\n",
    "        self.embedding = torch.nn.Embedding(input_dim, 512)\n",
    "        self.transformer = torch.nn.Transformer(d_model=512, nhead=num_heads, num_encoder_layers=num_layers)\n",
    "        self.fc = torch.nn.Linear(512, output_dim)\n",
    "\n",
    "    def forward(self, x):\n",
    "        x = self.embedding(x)\n",
    "        x = self.transformer(x)\n",
    "        x = self.fc(x)\n",
    "        return x"
   ]
  },
  {
   "cell_type": "code",
   "execution_count": 5,
   "id": "eaad9176",
   "metadata": {},
   "outputs": [
    {
     "name": "stderr",
     "output_type": "stream",
     "text": [
      "d:\\miniconda3\\envs\\cv\\Lib\\site-packages\\torch\\nn\\modules\\transformer.py:385: UserWarning: enable_nested_tensor is True, but self.use_nested_tensor is False because encoder_layer.self_attn.batch_first was not True(use batch_first for better inference performance)\n",
      "  warnings.warn(\n"
     ]
    },
    {
     "data": {
      "text/plain": [
       "==========================================================================================\n",
       "Layer (type:depth-idx)                                            Param #\n",
       "==========================================================================================\n",
       "Transformer                                                       --\n",
       "├─TransformerEncoder: 1-1                                         --\n",
       "│    └─ModuleList: 2-1                                            --\n",
       "│    │    └─TransformerEncoderLayer: 3-1                          3,152,384\n",
       "│    │    └─TransformerEncoderLayer: 3-2                          3,152,384\n",
       "│    │    └─TransformerEncoderLayer: 3-3                          3,152,384\n",
       "│    │    └─TransformerEncoderLayer: 3-4                          3,152,384\n",
       "│    │    └─TransformerEncoderLayer: 3-5                          3,152,384\n",
       "│    │    └─TransformerEncoderLayer: 3-6                          3,152,384\n",
       "│    └─LayerNorm: 2-2                                             1,024\n",
       "├─TransformerDecoder: 1-2                                         --\n",
       "│    └─ModuleList: 2-3                                            --\n",
       "│    │    └─TransformerDecoderLayer: 3-7                          4,204,032\n",
       "│    │    └─TransformerDecoderLayer: 3-8                          4,204,032\n",
       "│    │    └─TransformerDecoderLayer: 3-9                          4,204,032\n",
       "│    │    └─TransformerDecoderLayer: 3-10                         4,204,032\n",
       "│    │    └─TransformerDecoderLayer: 3-11                         4,204,032\n",
       "│    │    └─TransformerDecoderLayer: 3-12                         4,204,032\n",
       "│    └─LayerNorm: 2-4                                             1,024\n",
       "==========================================================================================\n",
       "Total params: 44,140,544\n",
       "Trainable params: 44,140,544\n",
       "Non-trainable params: 0\n",
       "=========================================================================================="
      ]
     },
     "execution_count": 5,
     "metadata": {},
     "output_type": "execute_result"
    }
   ],
   "source": [
    "from torchinfo import summary\n",
    "\n",
    "a = torch.nn.Transformer()\n",
    "summary(a)"
   ]
  },
  {
   "cell_type": "code",
   "execution_count": null,
   "id": "a6ceec96",
   "metadata": {},
   "outputs": [],
   "source": []
  }
 ],
 "metadata": {
  "kernelspec": {
   "display_name": "cv",
   "language": "python",
   "name": "python3"
  },
  "language_info": {
   "codemirror_mode": {
    "name": "ipython",
    "version": 3
   },
   "file_extension": ".py",
   "mimetype": "text/x-python",
   "name": "python",
   "nbconvert_exporter": "python",
   "pygments_lexer": "ipython3",
   "version": "3.12.9"
  }
 },
 "nbformat": 4,
 "nbformat_minor": 5
}
